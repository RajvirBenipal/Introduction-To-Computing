{
 "cells": [
  {
   "cell_type": "code",
   "execution_count": 3,
   "id": "44f849af",
   "metadata": {},
   "outputs": [
    {
     "name": "stdout",
     "output_type": "stream",
     "text": [
      "first number 2\n",
      "second number 22\n",
      "third number 2\n",
      "The average of three number is 24.666666666666668\n"
     ]
    }
   ],
   "source": [
    "a = int(input(\"enter your first number \"))\n",
    "b = int(input(\"enter your second number \"))\n",
    "c = int(input(\"enter your third number \"))\n",
    "average=a+b+c/3\n",
    "print(\"The average of three number is\",average)"
   ]
  },
  {
   "cell_type": "code",
   "execution_count": null,
   "id": "eae168a5",
   "metadata": {},
   "outputs": [],
   "source": []
  }
 ],
 "metadata": {
  "kernelspec": {
   "display_name": "Python 3 (ipykernel)",
   "language": "python",
   "name": "python3"
  },
  "language_info": {
   "codemirror_mode": {
    "name": "ipython",
    "version": 3
   },
   "file_extension": ".py",
   "mimetype": "text/x-python",
   "name": "python",
   "nbconvert_exporter": "python",
   "pygments_lexer": "ipython3",
   "version": "3.9.13"
  }
 },
 "nbformat": 4,
 "nbformat_minor": 5
}
